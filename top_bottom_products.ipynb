{
 "cells": [
  {
   "cell_type": "code",
   "execution_count": 30,
   "metadata": {},
   "outputs": [],
   "source": [
    "import pandas as pd\n",
    "import re"
   ]
  },
  {
   "cell_type": "code",
   "execution_count": 35,
   "metadata": {},
   "outputs": [
    {
     "data": {
      "text/plain": [
       "(26541, 17)"
      ]
     },
     "execution_count": 35,
     "metadata": {},
     "output_type": "execute_result"
    }
   ],
   "source": [
    "df_with_sentiments = pd.read_csv('data/final/df_with_sentiment.csv')\n",
    "df_with_sentiments.drop(columns='Unnamed: 0',inplace=True)\n",
    "df_with_sentiments.shape"
   ]
  },
  {
   "cell_type": "code",
   "execution_count": 36,
   "metadata": {},
   "outputs": [
    {
     "data": {
      "text/html": [
       "<div>\n",
       "<style scoped>\n",
       "    .dataframe tbody tr th:only-of-type {\n",
       "        vertical-align: middle;\n",
       "    }\n",
       "\n",
       "    .dataframe tbody tr th {\n",
       "        vertical-align: top;\n",
       "    }\n",
       "\n",
       "    .dataframe thead th {\n",
       "        text-align: right;\n",
       "    }\n",
       "</style>\n",
       "<table border=\"1\" class=\"dataframe\">\n",
       "  <thead>\n",
       "    <tr style=\"text-align: right;\">\n",
       "      <th></th>\n",
       "      <th>marketplace</th>\n",
       "      <th>product_parent</th>\n",
       "      <th>product_title</th>\n",
       "      <th>product_category</th>\n",
       "      <th>star_rating</th>\n",
       "      <th>helpful_votes</th>\n",
       "      <th>total_votes</th>\n",
       "      <th>vine</th>\n",
       "      <th>verified_purchase</th>\n",
       "      <th>review_headline</th>\n",
       "      <th>review_body</th>\n",
       "      <th>review_date</th>\n",
       "      <th>helpful_votes_category</th>\n",
       "      <th>total_votes_category</th>\n",
       "      <th>generated_sentiment</th>\n",
       "      <th>polarity</th>\n",
       "      <th>score</th>\n",
       "    </tr>\n",
       "  </thead>\n",
       "  <tbody>\n",
       "    <tr>\n",
       "      <th>0</th>\n",
       "      <td>US</td>\n",
       "      <td>252289695</td>\n",
       "      <td>Bose CineMate GS Series II Digital Home Theate...</td>\n",
       "      <td>Electronics</td>\n",
       "      <td>5</td>\n",
       "      <td>1</td>\n",
       "      <td>1</td>\n",
       "      <td>N</td>\n",
       "      <td>Y</td>\n",
       "      <td>Bose CineMate GS SERIES II</td>\n",
       "      <td>My husband &amp; I  love the performance of this i...</td>\n",
       "      <td>2014</td>\n",
       "      <td>Minimal Engagement</td>\n",
       "      <td>Minimal Engagement</td>\n",
       "      <td>[\"positive\", 0.8]</td>\n",
       "      <td>positive</td>\n",
       "      <td>0.8</td>\n",
       "    </tr>\n",
       "    <tr>\n",
       "      <th>1</th>\n",
       "      <td>US</td>\n",
       "      <td>212220643</td>\n",
       "      <td>QQ-Tech? 3rd Gen 4GB Waterproof MP3 Player FM ...</td>\n",
       "      <td>Electronics</td>\n",
       "      <td>1</td>\n",
       "      <td>0</td>\n",
       "      <td>0</td>\n",
       "      <td>N</td>\n",
       "      <td>Y</td>\n",
       "      <td>!!!!!!!!!!!!!!!Don't Buy!!!!!!!!!!!!!!!!!!</td>\n",
       "      <td>Poor Quality!  I used it once and the next day...</td>\n",
       "      <td>2013</td>\n",
       "      <td>No Votes</td>\n",
       "      <td>No Votes</td>\n",
       "      <td>[[\"positive\", 0.3], [\"negative\", -0.7], [\"neut...</td>\n",
       "      <td>positive</td>\n",
       "      <td>0.3</td>\n",
       "    </tr>\n",
       "    <tr>\n",
       "      <th>2</th>\n",
       "      <td>US</td>\n",
       "      <td>154289075</td>\n",
       "      <td>Sansui HDTV2600 26\" Wide Flat HD Ready Stereo ...</td>\n",
       "      <td>Electronics</td>\n",
       "      <td>4</td>\n",
       "      <td>1</td>\n",
       "      <td>1</td>\n",
       "      <td>N</td>\n",
       "      <td>N</td>\n",
       "      <td>Very good 1080i TV</td>\n",
       "      <td>I got The Sansui 26\\\\\" TV a few months back fo...</td>\n",
       "      <td>2007</td>\n",
       "      <td>Minimal Engagement</td>\n",
       "      <td>Minimal Engagement</td>\n",
       "      <td>[positive, 0.6]</td>\n",
       "      <td>positive</td>\n",
       "      <td>0.6</td>\n",
       "    </tr>\n",
       "    <tr>\n",
       "      <th>3</th>\n",
       "      <td>US</td>\n",
       "      <td>837913882</td>\n",
       "      <td>JVC FLATS Lightweight Headband Headphones</td>\n",
       "      <td>Electronics</td>\n",
       "      <td>5</td>\n",
       "      <td>2</td>\n",
       "      <td>2</td>\n",
       "      <td>N</td>\n",
       "      <td>Y</td>\n",
       "      <td>great sounding headphones for the price</td>\n",
       "      <td>These sound really good.  I mean they aren't B...</td>\n",
       "      <td>2013</td>\n",
       "      <td>Minimal Engagement</td>\n",
       "      <td>Minimal Engagement</td>\n",
       "      <td>```\\n[\"positive\", 0.7]\\n```</td>\n",
       "      <td>positive</td>\n",
       "      <td>0.7</td>\n",
       "    </tr>\n",
       "    <tr>\n",
       "      <th>4</th>\n",
       "      <td>US</td>\n",
       "      <td>370134282</td>\n",
       "      <td>Shure E2c-n Sound Isolating Earphones (Black)</td>\n",
       "      <td>Electronics</td>\n",
       "      <td>4</td>\n",
       "      <td>1</td>\n",
       "      <td>1</td>\n",
       "      <td>N</td>\n",
       "      <td>Y</td>\n",
       "      <td>For good quality earphones, look no further</td>\n",
       "      <td>These babies are worth every cent. First of al...</td>\n",
       "      <td>2008</td>\n",
       "      <td>Minimal Engagement</td>\n",
       "      <td>Minimal Engagement</td>\n",
       "      <td>[\"positive\", 0.5]</td>\n",
       "      <td>positive</td>\n",
       "      <td>0.5</td>\n",
       "    </tr>\n",
       "  </tbody>\n",
       "</table>\n",
       "</div>"
      ],
      "text/plain": [
       "  marketplace  product_parent  \\\n",
       "0          US       252289695   \n",
       "1          US       212220643   \n",
       "2          US       154289075   \n",
       "3          US       837913882   \n",
       "4          US       370134282   \n",
       "\n",
       "                                       product_title product_category  \\\n",
       "0  Bose CineMate GS Series II Digital Home Theate...      Electronics   \n",
       "1  QQ-Tech? 3rd Gen 4GB Waterproof MP3 Player FM ...      Electronics   \n",
       "2  Sansui HDTV2600 26\" Wide Flat HD Ready Stereo ...      Electronics   \n",
       "3          JVC FLATS Lightweight Headband Headphones      Electronics   \n",
       "4      Shure E2c-n Sound Isolating Earphones (Black)      Electronics   \n",
       "\n",
       "   star_rating  helpful_votes  total_votes vine verified_purchase  \\\n",
       "0            5              1            1    N                 Y   \n",
       "1            1              0            0    N                 Y   \n",
       "2            4              1            1    N                 N   \n",
       "3            5              2            2    N                 Y   \n",
       "4            4              1            1    N                 Y   \n",
       "\n",
       "                               review_headline  \\\n",
       "0                   Bose CineMate GS SERIES II   \n",
       "1   !!!!!!!!!!!!!!!Don't Buy!!!!!!!!!!!!!!!!!!   \n",
       "2                           Very good 1080i TV   \n",
       "3      great sounding headphones for the price   \n",
       "4  For good quality earphones, look no further   \n",
       "\n",
       "                                         review_body  review_date  \\\n",
       "0  My husband & I  love the performance of this i...         2014   \n",
       "1  Poor Quality!  I used it once and the next day...         2013   \n",
       "2  I got The Sansui 26\\\\\" TV a few months back fo...         2007   \n",
       "3  These sound really good.  I mean they aren't B...         2013   \n",
       "4  These babies are worth every cent. First of al...         2008   \n",
       "\n",
       "  helpful_votes_category total_votes_category  \\\n",
       "0     Minimal Engagement   Minimal Engagement   \n",
       "1               No Votes             No Votes   \n",
       "2     Minimal Engagement   Minimal Engagement   \n",
       "3     Minimal Engagement   Minimal Engagement   \n",
       "4     Minimal Engagement   Minimal Engagement   \n",
       "\n",
       "                                 generated_sentiment  polarity  score  \n",
       "0                                  [\"positive\", 0.8]  positive    0.8  \n",
       "1  [[\"positive\", 0.3], [\"negative\", -0.7], [\"neut...  positive    0.3  \n",
       "2                                    [positive, 0.6]  positive    0.6  \n",
       "3                        ```\\n[\"positive\", 0.7]\\n```  positive    0.7  \n",
       "4                                  [\"positive\", 0.5]  positive    0.5  "
      ]
     },
     "execution_count": 36,
     "metadata": {},
     "output_type": "execute_result"
    }
   ],
   "source": [
    "df_with_sentiments.head(5)"
   ]
  },
  {
   "cell_type": "code",
   "execution_count": 37,
   "metadata": {},
   "outputs": [
    {
     "data": {
      "text/plain": [
       "Gift Card           11019\n",
       "Electronics         10845\n",
       "Major Appliances     4677\n",
       "Name: product_category, dtype: int64"
      ]
     },
     "execution_count": 37,
     "metadata": {},
     "output_type": "execute_result"
    }
   ],
   "source": [
    "# distinct product category\n",
    "df_with_sentiments['product_category'].value_counts()"
   ]
  },
  {
   "cell_type": "code",
   "execution_count": 38,
   "metadata": {},
   "outputs": [
    {
     "data": {
      "text/plain": [
       "product_category\n",
       "Electronics         6467\n",
       "Gift Card            659\n",
       "Major Appliances    2186\n",
       "Name: product_title, dtype: int64"
      ]
     },
     "execution_count": 38,
     "metadata": {},
     "output_type": "execute_result"
    }
   ],
   "source": [
    "# distinct product count within a category\n",
    "df_with_sentiments.groupby('product_category')['product_title'].nunique()"
   ]
  },
  {
   "cell_type": "code",
   "execution_count": 40,
   "metadata": {},
   "outputs": [
    {
     "data": {
      "text/plain": [
       "positive    24447\n",
       "negative     1956\n",
       "neutral       138\n",
       "Name: polarity, dtype: int64"
      ]
     },
     "execution_count": 40,
     "metadata": {},
     "output_type": "execute_result"
    }
   ],
   "source": [
    "df_with_sentiments['polarity'].value_counts()"
   ]
  }
 ],
 "metadata": {
  "kernelspec": {
   "display_name": "data598",
   "language": "python",
   "name": "python3"
  },
  "language_info": {
   "codemirror_mode": {
    "name": "ipython",
    "version": 3
   },
   "file_extension": ".py",
   "mimetype": "text/x-python",
   "name": "python",
   "nbconvert_exporter": "python",
   "pygments_lexer": "ipython3",
   "version": "3.8.15"
  },
  "orig_nbformat": 4
 },
 "nbformat": 4,
 "nbformat_minor": 2
}
