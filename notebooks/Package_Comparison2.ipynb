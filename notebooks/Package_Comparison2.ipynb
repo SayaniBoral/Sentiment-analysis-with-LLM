{
 "cells": [
  {
   "cell_type": "markdown",
   "id": "37e9ab72",
   "metadata": {},
   "source": [
    "# Python Package Choice"
   ]
  },
  {
   "cell_type": "code",
   "execution_count": 1,
   "id": "4061c708",
   "metadata": {},
   "outputs": [
    {
     "name": "stdout",
     "output_type": "stream",
     "text": [
      "Collecting textblob\n",
      "  Downloading textblob-0.17.1-py2.py3-none-any.whl (636 kB)\n",
      "\u001b[2K     \u001b[90m━━━━━━━━━━━━━━━━━━━━━━━━━━━━━━━━━━━━━━━\u001b[0m \u001b[32m636.8/636.8 kB\u001b[0m \u001b[31m1.9 MB/s\u001b[0m eta \u001b[36m0:00:00\u001b[0m00:01\u001b[0m00:01\u001b[0m\n",
      "\u001b[?25hRequirement already satisfied: nltk>=3.1 in /Users/sayo/opt/anaconda3/envs/data598/lib/python3.8/site-packages (from textblob) (3.8.1)\n",
      "Requirement already satisfied: regex>=2021.8.3 in /Users/sayo/opt/anaconda3/envs/data598/lib/python3.8/site-packages (from nltk>=3.1->textblob) (2022.10.31)\n",
      "Requirement already satisfied: tqdm in /Users/sayo/opt/anaconda3/envs/data598/lib/python3.8/site-packages (from nltk>=3.1->textblob) (4.64.1)\n",
      "Requirement already satisfied: joblib in /Users/sayo/opt/anaconda3/envs/data598/lib/python3.8/site-packages (from nltk>=3.1->textblob) (1.2.0)\n",
      "Requirement already satisfied: click in /Users/sayo/opt/anaconda3/envs/data598/lib/python3.8/site-packages (from nltk>=3.1->textblob) (8.1.3)\n",
      "Installing collected packages: textblob\n",
      "Successfully installed textblob-0.17.1\n"
     ]
    }
   ],
   "source": [
    "!pip install textblob"
   ]
  },
  {
   "cell_type": "code",
   "execution_count": 3,
   "id": "0b983d6d",
   "metadata": {
    "scrolled": true
   },
   "outputs": [],
   "source": [
    "import pandas as pd\n",
    "import matplotlib.pyplot as plt\n",
    "from collections import Counter\n",
    "import re\n",
    "from transformers import AutoModelForSequenceClassification, AutoTokenizer,pipeline \n",
    "from textblob import TextBlob\n",
    "import sklearn\n"
   ]
  },
  {
   "cell_type": "markdown",
   "id": "9f10b033",
   "metadata": {},
   "source": [
    "## CHANGE PATH FOR YOU MACHINE"
   ]
  },
  {
   "cell_type": "code",
   "execution_count": 2,
   "id": "7df8e89d",
   "metadata": {},
   "outputs": [
    {
     "name": "stderr",
     "output_type": "stream",
     "text": [
      "/var/folders/3h/r5l1t4656pbc6bzdv94m9wrm0000gn/T/ipykernel_31407/2187263467.py:6: FutureWarning: The error_bad_lines argument has been deprecated and will be removed in a future version. Use on_bad_lines in the future.\n",
      "\n",
      "\n",
      "  df_gift_card = pd.read_csv(gift_card_path, sep='\\t', error_bad_lines=False)\n",
      "/var/folders/3h/r5l1t4656pbc6bzdv94m9wrm0000gn/T/ipykernel_31407/2187263467.py:7: FutureWarning: The error_bad_lines argument has been deprecated and will be removed in a future version. Use on_bad_lines in the future.\n",
      "\n",
      "\n",
      "  df_major_appliances = pd.read_csv(major_appliances_path, sep='\\t', error_bad_lines=False)\n",
      "Skipping line 5583: expected 15 fields, saw 22\n",
      "Skipping line 22814: expected 15 fields, saw 22\n",
      "Skipping line 22883: expected 15 fields, saw 22\n",
      "Skipping line 29872: expected 15 fields, saw 22\n",
      "Skipping line 37242: expected 15 fields, saw 22\n",
      "Skipping line 59693: expected 15 fields, saw 22\n",
      "\n"
     ]
    }
   ],
   "source": [
    "# Define the paths to the files\n",
    "gift_card_path = 'Sentiment-analysis-with-LLM/raw_data/amazon_reviews_us_Gift_Card_v1_00.tsv'\n",
    "major_appliances_path = 'Sentiment-analysis-with-LLM/raw_data/amazon_reviews_us_Major_Appliances_v1_00.tsv'\n",
    "\n",
    "# Read the files into dataframes\n",
    "df_gift_card = pd.read_csv(gift_card_path, sep='\\t', error_bad_lines=False)\n",
    "df_major_appliances = pd.read_csv(major_appliances_path, sep='\\t', error_bad_lines=False)\n",
    "\n",
    "# Display the first few rows of each dataframe to verify\n",
    "# print(\"Gift Card Reviews DataFrame:\")\n",
    "# display(df_gift_card.head())\n",
    "# print(\"\\nMajor Appliances Reviews DataFrame:\")\n",
    "# display(df_major_appliances.head())"
   ]
  },
  {
   "cell_type": "markdown",
   "id": "7d8bcba8",
   "metadata": {},
   "source": [
    "## Join both Datasets"
   ]
  },
  {
   "cell_type": "code",
   "execution_count": 3,
   "id": "bf8aac22",
   "metadata": {},
   "outputs": [
    {
     "name": "stdout",
     "output_type": "stream",
     "text": [
      "<class 'pandas.core.frame.DataFrame'>\n",
      "RangeIndex: 245144 entries, 0 to 245143\n",
      "Data columns (total 15 columns):\n",
      " #   Column             Non-Null Count   Dtype \n",
      "---  ------             --------------   ----- \n",
      " 0   marketplace        245144 non-null  object\n",
      " 1   customer_id        245144 non-null  int64 \n",
      " 2   review_id          245144 non-null  object\n",
      " 3   product_id         245144 non-null  object\n",
      " 4   product_parent     245144 non-null  int64 \n",
      " 5   product_title      245144 non-null  object\n",
      " 6   product_category   245144 non-null  object\n",
      " 7   star_rating        245144 non-null  int64 \n",
      " 8   helpful_votes      245144 non-null  int64 \n",
      " 9   total_votes        245144 non-null  int64 \n",
      " 10  vine               245144 non-null  object\n",
      " 11  verified_purchase  245144 non-null  object\n",
      " 12  review_headline    245140 non-null  object\n",
      " 13  review_body        245135 non-null  object\n",
      " 14  review_date        245142 non-null  object\n",
      "dtypes: int64(5), object(10)\n",
      "memory usage: 28.1+ MB\n",
      "None\n"
     ]
    }
   ],
   "source": [
    "# Concatenate the two dataframes vertically\n",
    "df_combined = pd.concat([df_gift_card, df_major_appliances], ignore_index=True)\n",
    "\n",
    "# Check the combined dataframe\n",
    "print(df_combined.info())\n"
   ]
  },
  {
   "cell_type": "code",
   "execution_count": null,
   "id": "78feeb7f",
   "metadata": {},
   "outputs": [],
   "source": [
    "# df_combined['review_date'] = pd.to_datetime(df_combined['review_date'])"
   ]
  },
  {
   "cell_type": "markdown",
   "id": "9727417c",
   "metadata": {},
   "source": [
    "### TextBlob Test"
   ]
  },
  {
   "cell_type": "code",
   "execution_count": 4,
   "id": "b6992286",
   "metadata": {},
   "outputs": [
    {
     "name": "stdout",
     "output_type": "stream",
     "text": [
      "TextBlob Sentiment: Sentiment(polarity=1.0, subjectivity=1.0)\n"
     ]
    }
   ],
   "source": [
    "text = \"This product has been excellent in performance but I had issues with its customer service.\"\n",
    "blob = TextBlob(text)\n",
    "print(f\"TextBlob Sentiment: {blob.sentiment}\")"
   ]
  },
  {
   "cell_type": "code",
   "execution_count": 5,
   "id": "eea3da97",
   "metadata": {},
   "outputs": [
    {
     "name": "stdout",
     "output_type": "stream",
     "text": [
      "Review: This product has been excellent in performance but I had issues with its customer service.\n",
      "TextBlob Sentiment: Sentiment(polarity=1.0, subjectivity=1.0)\n",
      "\n",
      "Review: Absolutely love this product, it works wonders!\n",
      "TextBlob Sentiment: Sentiment(polarity=0.625, subjectivity=0.6)\n",
      "\n",
      "Review: Terrible, did not work as advertised.\n",
      "TextBlob Sentiment: Sentiment(polarity=-1.0, subjectivity=1.0)\n",
      "\n",
      "Review: Okay, but I've seen better performance from cheaper products.\n",
      "TextBlob Sentiment: Sentiment(polarity=0.5, subjectivity=0.5)\n",
      "\n",
      "Review: Amazing quality, exceeded my expectations.\n",
      "TextBlob Sentiment: Sentiment(polarity=0.6000000000000001, subjectivity=0.9)\n",
      "\n",
      "Review: The worst customer service experience ever.\n",
      "TextBlob Sentiment: Sentiment(polarity=-1.0, subjectivity=1.0)\n",
      "\n",
      "Review: Pretty good, but not worth the price.\n",
      "TextBlob Sentiment: Sentiment(polarity=0.26666666666666666, subjectivity=0.5666666666666668)\n",
      "\n",
      "Review: This product saved me so much time!\n",
      "TextBlob Sentiment: Sentiment(polarity=0.25, subjectivity=0.2)\n",
      "\n",
      "Review: Not happy with the purchase. It broke after a week.\n",
      "TextBlob Sentiment: Sentiment(polarity=-0.4, subjectivity=1.0)\n",
      "\n",
      "Review: Excellent durability and performance. Highly recommend.\n",
      "TextBlob Sentiment: Sentiment(polarity=0.58, subjectivity=0.77)\n",
      "\n",
      "Review: Mediocre at best, I wouldn't buy it again.\n",
      "TextBlob Sentiment: Sentiment(polarity=0.25, subjectivity=0.65)\n",
      "\n"
     ]
    }
   ],
   "source": [
    "reviews = [\n",
    "     \"This product has been excellent in performance but I had issues with its customer service.\",\n",
    "    \"Absolutely love this product, it works wonders!\",\n",
    "    \"Terrible, did not work as advertised.\",\n",
    "    \"Okay, but I've seen better performance from cheaper products.\",\n",
    "    \"Amazing quality, exceeded my expectations.\",\n",
    "    \"The worst customer service experience ever.\",\n",
    "    \"Pretty good, but not worth the price.\",\n",
    "    \"This product saved me so much time!\",\n",
    "    \"Not happy with the purchase. It broke after a week.\",\n",
    "    \"Excellent durability and performance. Highly recommend.\",\n",
    "    \"Mediocre at best, I wouldn't buy it again.\"\n",
    "]\n",
    "\n",
    "for review in reviews:\n",
    "    blob = TextBlob(review)\n",
    "    print(f\"Review: {review}\\nTextBlob Sentiment: {blob.sentiment}\\n\")"
   ]
  },
  {
   "cell_type": "markdown",
   "id": "43253b77",
   "metadata": {},
   "source": [
    "#### Apply To Our Data"
   ]
  },
  {
   "cell_type": "code",
   "execution_count": 6,
   "id": "9a85b27f",
   "metadata": {},
   "outputs": [
    {
     "name": "stdout",
     "output_type": "stream",
     "text": [
      "Review: Great birthday gift for a young adult.\n",
      "TextBlob Sentiment: Sentiment(polarity=0.3333333333333333, subjectivity=0.48333333333333334)\n",
      "\n",
      "Review: It's an Amazon gift card and with over 982398324908 items I am sure you will find something you love.\n",
      "TextBlob Sentiment: Sentiment(polarity=0.5, subjectivity=0.7444444444444445)\n",
      "\n",
      "Review: Good\n",
      "TextBlob Sentiment: Sentiment(polarity=0.7, subjectivity=0.6000000000000001)\n",
      "\n",
      "Review: Fair\n",
      "TextBlob Sentiment: Sentiment(polarity=0.7, subjectivity=0.9)\n",
      "\n",
      "Review: I can't believe how quickly Amazon can get these into my hands!!  Thank you!\n",
      "TextBlob Sentiment: Sentiment(polarity=0.6510416666666665, subjectivity=0.5)\n",
      "\n",
      "Review: Perfect!  Nice & easy plus everyone loves them.  This is one gift you'll never have to return!\n",
      "TextBlob Sentiment: Sentiment(polarity=0.7138888888888889, subjectivity=0.9444444444444445)\n",
      "\n",
      "Review: excelent\n",
      "TextBlob Sentiment: Sentiment(polarity=0.0, subjectivity=0.0)\n",
      "\n",
      "Review: Great and Safe Gift Giving\n",
      "TextBlob Sentiment: Sentiment(polarity=0.65, subjectivity=0.625)\n",
      "\n",
      "Review: What?????????\n",
      "TextBlob Sentiment: Sentiment(polarity=0.0, subjectivity=0.0)\n",
      "\n",
      "Review: This was just too easy~click & print!\n",
      "TextBlob Sentiment: Sentiment(polarity=0.0, subjectivity=0.0)\n",
      "\n"
     ]
    }
   ],
   "source": [
    "# Define a function to compute the sentiment\n",
    "def compute_sentiment(text):\n",
    "    try:\n",
    "        return TextBlob(text).sentiment\n",
    "    except:\n",
    "        return None\n",
    "\n",
    "# Apply the function to the 'review_body' column\n",
    "df_combined['sentiment'] = df_combined['review_body'].apply(compute_sentiment)\n",
    "\n",
    "# Optionally, you can print out some of the reviews and their calculated sentiment scores to check\n",
    "for index, row in df_combined.head(10).iterrows():\n",
    "    print(f\"Review: {row['review_body']}\\nTextBlob Sentiment: {row['sentiment']}\\n\")\n"
   ]
  },
  {
   "cell_type": "code",
   "execution_count": null,
   "id": "3f3ed4f4",
   "metadata": {},
   "outputs": [],
   "source": []
  },
  {
   "cell_type": "markdown",
   "id": "56abe6a5",
   "metadata": {},
   "source": [
    "### Hugging Face Transformers Test"
   ]
  },
  {
   "cell_type": "code",
   "execution_count": 7,
   "id": "fea6f44a",
   "metadata": {},
   "outputs": [
    {
     "name": "stderr",
     "output_type": "stream",
     "text": [
      "No model was supplied, defaulted to distilbert-base-uncased-finetuned-sst-2-english and revision af0f99b (https://huggingface.co/distilbert-base-uncased-finetuned-sst-2-english).\n",
      "Using a pipeline without specifying a model name and revision in production is not recommended.\n"
     ]
    },
    {
     "name": "stdout",
     "output_type": "stream",
     "text": [
      "Hugging Face Sentiment: [{'label': 'NEGATIVE', 'score': 0.9973146319389343}]\n"
     ]
    }
   ],
   "source": [
    "nlp = pipeline(\"sentiment-analysis\")\n",
    "text = \"This product has been excellent in performance but I had issues with its customer service.\"\n",
    "result = nlp(text)\n",
    "print(f\"Hugging Face Sentiment: {result}\")\n"
   ]
  },
  {
   "cell_type": "code",
   "execution_count": 8,
   "id": "3cce9a2f",
   "metadata": {},
   "outputs": [
    {
     "name": "stderr",
     "output_type": "stream",
     "text": [
      "No model was supplied, defaulted to distilbert-base-uncased-finetuned-sst-2-english and revision af0f99b (https://huggingface.co/distilbert-base-uncased-finetuned-sst-2-english).\n",
      "Using a pipeline without specifying a model name and revision in production is not recommended.\n"
     ]
    },
    {
     "name": "stdout",
     "output_type": "stream",
     "text": [
      "Review: This product has been excellent in performance but I had issues with its customer service.\n",
      "Hugging Face Sentiment: [{'label': 'NEGATIVE', 'score': 0.9973146319389343}]\n",
      "\n",
      "Review: Absolutely love this product, it works wonders!\n",
      "Hugging Face Sentiment: [{'label': 'POSITIVE', 'score': 0.9998862743377686}]\n",
      "\n",
      "Review: Terrible, did not work as advertised.\n",
      "Hugging Face Sentiment: [{'label': 'NEGATIVE', 'score': 0.9994440674781799}]\n",
      "\n",
      "Review: Okay, but I've seen better performance from cheaper products.\n",
      "Hugging Face Sentiment: [{'label': 'NEGATIVE', 'score': 0.9877060055732727}]\n",
      "\n",
      "Review: Amazing quality, exceeded my expectations.\n",
      "Hugging Face Sentiment: [{'label': 'POSITIVE', 'score': 0.9998855590820312}]\n",
      "\n",
      "Review: The worst customer service experience ever.\n",
      "Hugging Face Sentiment: [{'label': 'NEGATIVE', 'score': 0.999789297580719}]\n",
      "\n",
      "Review: Pretty good, but not worth the price.\n",
      "Hugging Face Sentiment: [{'label': 'NEGATIVE', 'score': 0.9121016263961792}]\n",
      "\n",
      "Review: This product saved me so much time!\n",
      "Hugging Face Sentiment: [{'label': 'POSITIVE', 'score': 0.9677528142929077}]\n",
      "\n",
      "Review: Not happy with the purchase. It broke after a week.\n",
      "Hugging Face Sentiment: [{'label': 'NEGATIVE', 'score': 0.9996868371963501}]\n",
      "\n",
      "Review: Excellent durability and performance. Highly recommend.\n",
      "Hugging Face Sentiment: [{'label': 'POSITIVE', 'score': 0.9998711347579956}]\n",
      "\n",
      "Review: Mediocre at best, I wouldn't buy it again.\n",
      "Hugging Face Sentiment: [{'label': 'NEGATIVE', 'score': 0.9996426105499268}]\n",
      "\n"
     ]
    }
   ],
   "source": [
    "nlp = pipeline(\"sentiment-analysis\")\n",
    "\n",
    "reviews = [\n",
    "    \"This product has been excellent in performance but I had issues with its customer service.\",\n",
    "    \"Absolutely love this product, it works wonders!\",\n",
    "    \"Terrible, did not work as advertised.\",\n",
    "    \"Okay, but I've seen better performance from cheaper products.\",\n",
    "    \"Amazing quality, exceeded my expectations.\",\n",
    "    \"The worst customer service experience ever.\",\n",
    "    \"Pretty good, but not worth the price.\",\n",
    "    \"This product saved me so much time!\",\n",
    "    \"Not happy with the purchase. It broke after a week.\",\n",
    "    \"Excellent durability and performance. Highly recommend.\",\n",
    "    \"Mediocre at best, I wouldn't buy it again.\"\n",
    "]\n",
    "\n",
    "for review in reviews:\n",
    "    result = nlp(review)\n",
    "    print(f\"Review: {review}\\nHugging Face Sentiment: {result}\\n\")\n"
   ]
  },
  {
   "cell_type": "markdown",
   "id": "26e0ff28",
   "metadata": {},
   "source": [
    "#### Apply To Our Data"
   ]
  },
  {
   "cell_type": "code",
   "execution_count": 12,
   "id": "882d4090",
   "metadata": {},
   "outputs": [
    {
     "name": "stderr",
     "output_type": "stream",
     "text": [
      "No model was supplied, defaulted to distilbert-base-uncased-finetuned-sst-2-english and revision af0f99b (https://huggingface.co/distilbert-base-uncased-finetuned-sst-2-english).\n",
      "Using a pipeline without specifying a model name and revision in production is not recommended.\n"
     ]
    },
    {
     "name": "stdout",
     "output_type": "stream",
     "text": [
      "Review: Great birthday gift for a young adult.\n",
      "Hugging Face Sentiment: [{'label': 'POSITIVE', 'score': 0.999884843826294}]\n",
      "\n",
      "Review: It's an Amazon gift card and with over 982398324908 items I am sure you will find something you love.\n",
      "Hugging Face Sentiment: [{'label': 'POSITIVE', 'score': 0.9996628761291504}]\n",
      "\n",
      "Review: Good\n",
      "Hugging Face Sentiment: [{'label': 'POSITIVE', 'score': 0.9998161196708679}]\n",
      "\n",
      "Review: Fair\n",
      "Hugging Face Sentiment: [{'label': 'POSITIVE', 'score': 0.9997696280479431}]\n",
      "\n",
      "Review: I can't believe how quickly Amazon can get these into my hands!!  Thank you!\n",
      "Hugging Face Sentiment: [{'label': 'POSITIVE', 'score': 0.998824417591095}]\n",
      "\n",
      "Review: Perfect!  Nice & easy plus everyone loves them.  This is one gift you'll never have to return!\n",
      "Hugging Face Sentiment: [{'label': 'POSITIVE', 'score': 0.9998905658721924}]\n",
      "\n",
      "Review: excelent\n",
      "Hugging Face Sentiment: [{'label': 'POSITIVE', 'score': 0.9998672008514404}]\n",
      "\n",
      "Review: Great and Safe Gift Giving\n",
      "Hugging Face Sentiment: [{'label': 'POSITIVE', 'score': 0.9998819828033447}]\n",
      "\n",
      "Review: What?????????\n",
      "Hugging Face Sentiment: [{'label': 'NEGATIVE', 'score': 0.9985209107398987}]\n",
      "\n",
      "Review: This was just too easy~click & print!\n",
      "Hugging Face Sentiment: [{'label': 'NEGATIVE', 'score': 0.9997099041938782}]\n",
      "\n"
     ]
    }
   ],
   "source": [
    "# Initialize the sentiment analysis pipeline\n",
    "nlp = pipeline(\"sentiment-analysis\")\n",
    "\n",
    "# Define a function to apply sentiment analysis\n",
    "def apply_sentiment_analysis(review):\n",
    "    try:\n",
    "        result = nlp(review)\n",
    "        return result\n",
    "    except Exception as e:\n",
    "        print(f\"Error processing review: {e}\")\n",
    "        return None\n",
    "\n",
    "# Apply the function to a subset of the 'review_body' column for demonstration\n",
    "# Note: Applying this to a large dataset might be time-consuming\n",
    "df_combined['huggingface_sentiment'] = df_combined['review_body'].head(100).apply(apply_sentiment_analysis)\n",
    "\n",
    "# Optionally, print some results to verify\n",
    "for index, row in df_combined.head(10).iterrows():\n",
    "    print(f\"Review: {row['review_body']}\\nHugging Face Sentiment: {row['huggingface_sentiment']}\\n\")\n"
   ]
  },
  {
   "cell_type": "code",
   "execution_count": null,
   "id": "d880ce4a",
   "metadata": {},
   "outputs": [],
   "source": []
  }
 ],
 "metadata": {
  "kernelspec": {
   "display_name": "Python 3 (ipykernel)",
   "language": "python",
   "name": "python3"
  },
  "language_info": {
   "codemirror_mode": {
    "name": "ipython",
    "version": 3
   },
   "file_extension": ".py",
   "mimetype": "text/x-python",
   "name": "python",
   "nbconvert_exporter": "python",
   "pygments_lexer": "ipython3",
   "version": "3.8.15"
  }
 },
 "nbformat": 4,
 "nbformat_minor": 5
}
