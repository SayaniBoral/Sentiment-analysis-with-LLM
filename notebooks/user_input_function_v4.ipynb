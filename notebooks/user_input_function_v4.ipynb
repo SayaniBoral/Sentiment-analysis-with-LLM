{
 "cells": [
  {
   "cell_type": "markdown",
   "id": "e7115f08",
   "metadata": {},
   "source": [
    "# Input Functions"
   ]
  },
  {
   "cell_type": "markdown",
   "id": "00cc45a1",
   "metadata": {},
   "source": [
    "#### import Modules "
   ]
  },
  {
   "cell_type": "code",
   "execution_count": 2,
   "id": "9bf69bb6",
   "metadata": {},
   "outputs": [
    {
     "name": "stdout",
     "output_type": "stream",
     "text": [
      "Collecting wordcloud\n",
      "  Downloading wordcloud-1.9.3-cp38-cp38-macosx_10_9_x86_64.whl (172 kB)\n",
      "\u001b[2K     \u001b[90m━━━━━━━━━━━━━━━━━━━━━━━━━━━━━━━━━━━━━━━\u001b[0m \u001b[32m172.8/172.8 kB\u001b[0m \u001b[31m1.7 MB/s\u001b[0m eta \u001b[36m0:00:00\u001b[0ma \u001b[36m0:00:01\u001b[0m\n",
      "\u001b[?25hRequirement already satisfied: pillow in /Users/sayo/opt/anaconda3/envs/data598/lib/python3.8/site-packages (from wordcloud) (9.4.0)\n",
      "Requirement already satisfied: numpy>=1.6.1 in /Users/sayo/opt/anaconda3/envs/data598/lib/python3.8/site-packages (from wordcloud) (1.24.1)\n",
      "Requirement already satisfied: matplotlib in /Users/sayo/opt/anaconda3/envs/data598/lib/python3.8/site-packages (from wordcloud) (3.7.4)\n",
      "Requirement already satisfied: kiwisolver>=1.0.1 in /Users/sayo/opt/anaconda3/envs/data598/lib/python3.8/site-packages (from matplotlib->wordcloud) (1.4.4)\n",
      "Requirement already satisfied: python-dateutil>=2.7 in /Users/sayo/opt/anaconda3/envs/data598/lib/python3.8/site-packages (from matplotlib->wordcloud) (2.8.2)\n",
      "Requirement already satisfied: importlib-resources>=3.2.0 in /Users/sayo/opt/anaconda3/envs/data598/lib/python3.8/site-packages (from matplotlib->wordcloud) (5.10.2)\n",
      "Requirement already satisfied: contourpy>=1.0.1 in /Users/sayo/opt/anaconda3/envs/data598/lib/python3.8/site-packages (from matplotlib->wordcloud) (1.0.6)\n",
      "Requirement already satisfied: fonttools>=4.22.0 in /Users/sayo/opt/anaconda3/envs/data598/lib/python3.8/site-packages (from matplotlib->wordcloud) (4.38.0)\n",
      "Requirement already satisfied: cycler>=0.10 in /Users/sayo/opt/anaconda3/envs/data598/lib/python3.8/site-packages (from matplotlib->wordcloud) (0.11.0)\n",
      "Requirement already satisfied: pyparsing>=2.3.1 in /Users/sayo/opt/anaconda3/envs/data598/lib/python3.8/site-packages (from matplotlib->wordcloud) (3.0.9)\n",
      "Requirement already satisfied: packaging>=20.0 in /Users/sayo/opt/anaconda3/envs/data598/lib/python3.8/site-packages (from matplotlib->wordcloud) (22.0)\n",
      "Requirement already satisfied: zipp>=3.1.0 in /Users/sayo/opt/anaconda3/envs/data598/lib/python3.8/site-packages (from importlib-resources>=3.2.0->matplotlib->wordcloud) (3.11.0)\n",
      "Requirement already satisfied: six>=1.5 in /Users/sayo/opt/anaconda3/envs/data598/lib/python3.8/site-packages (from python-dateutil>=2.7->matplotlib->wordcloud) (1.16.0)\n",
      "Installing collected packages: wordcloud\n",
      "Successfully installed wordcloud-1.9.3\n",
      "Note: you may need to restart the kernel to use updated packages.\n"
     ]
    }
   ],
   "source": [
    "pip install wordcloud"
   ]
  },
  {
   "cell_type": "code",
   "execution_count": 3,
   "id": "1abf36e1",
   "metadata": {},
   "outputs": [],
   "source": [
    "import pandas as pd\n",
    "from datetime import datetime\n",
    "import seaborn as sns\n",
    "import matplotlib.pyplot as plt\n",
    "from wordcloud import WordCloud\n",
    "from collections import Counter\n",
    "from textblob import TextBlob\n",
    "import re\n",
    "import csv"
   ]
  },
  {
   "cell_type": "markdown",
   "id": "6a56a8a2",
   "metadata": {},
   "source": [
    "## CHANGE PATH FOR YOU MACHINE"
   ]
  },
  {
   "cell_type": "code",
   "execution_count": 10,
   "id": "74a5a6c6",
   "metadata": {
    "scrolled": true
   },
   "outputs": [
    {
     "name": "stdout",
     "output_type": "stream",
     "text": [
      "Gift Card Reviews DataFrame:\n"
     ]
    },
    {
     "data": {
      "text/html": [
       "<div>\n",
       "<style scoped>\n",
       "    .dataframe tbody tr th:only-of-type {\n",
       "        vertical-align: middle;\n",
       "    }\n",
       "\n",
       "    .dataframe tbody tr th {\n",
       "        vertical-align: top;\n",
       "    }\n",
       "\n",
       "    .dataframe thead th {\n",
       "        text-align: right;\n",
       "    }\n",
       "</style>\n",
       "<table border=\"1\" class=\"dataframe\">\n",
       "  <thead>\n",
       "    <tr style=\"text-align: right;\">\n",
       "      <th></th>\n",
       "      <th>marketplace</th>\n",
       "      <th>customer_id</th>\n",
       "      <th>review_id</th>\n",
       "      <th>product_id</th>\n",
       "      <th>product_parent</th>\n",
       "      <th>product_title</th>\n",
       "      <th>product_category</th>\n",
       "      <th>star_rating</th>\n",
       "      <th>helpful_votes</th>\n",
       "      <th>total_votes</th>\n",
       "      <th>vine</th>\n",
       "      <th>verified_purchase</th>\n",
       "      <th>review_headline</th>\n",
       "      <th>review_body</th>\n",
       "      <th>review_date</th>\n",
       "    </tr>\n",
       "  </thead>\n",
       "  <tbody>\n",
       "    <tr>\n",
       "      <th>0</th>\n",
       "      <td>US</td>\n",
       "      <td>24371595</td>\n",
       "      <td>R27ZP1F1CD0C3Y</td>\n",
       "      <td>B004LLIL5A</td>\n",
       "      <td>346014806</td>\n",
       "      <td>Amazon eGift Card - Celebrate</td>\n",
       "      <td>Gift Card</td>\n",
       "      <td>5</td>\n",
       "      <td>0</td>\n",
       "      <td>0</td>\n",
       "      <td>N</td>\n",
       "      <td>Y</td>\n",
       "      <td>Five Stars</td>\n",
       "      <td>Great birthday gift for a young adult.</td>\n",
       "      <td>2015-08-31</td>\n",
       "    </tr>\n",
       "  </tbody>\n",
       "</table>\n",
       "</div>"
      ],
      "text/plain": [
       "  marketplace  customer_id       review_id  product_id  product_parent  \\\n",
       "0          US     24371595  R27ZP1F1CD0C3Y  B004LLIL5A       346014806   \n",
       "\n",
       "                   product_title product_category  star_rating  helpful_votes  \\\n",
       "0  Amazon eGift Card - Celebrate        Gift Card            5              0   \n",
       "\n",
       "   total_votes vine verified_purchase review_headline  \\\n",
       "0            0    N                 Y      Five Stars   \n",
       "\n",
       "                              review_body review_date  \n",
       "0  Great birthday gift for a young adult.  2015-08-31  "
      ]
     },
     "metadata": {},
     "output_type": "display_data"
    },
    {
     "name": "stdout",
     "output_type": "stream",
     "text": [
      "\n",
      "Major Appliances Reviews DataFrame:\n"
     ]
    },
    {
     "data": {
      "text/html": [
       "<div>\n",
       "<style scoped>\n",
       "    .dataframe tbody tr th:only-of-type {\n",
       "        vertical-align: middle;\n",
       "    }\n",
       "\n",
       "    .dataframe tbody tr th {\n",
       "        vertical-align: top;\n",
       "    }\n",
       "\n",
       "    .dataframe thead th {\n",
       "        text-align: right;\n",
       "    }\n",
       "</style>\n",
       "<table border=\"1\" class=\"dataframe\">\n",
       "  <thead>\n",
       "    <tr style=\"text-align: right;\">\n",
       "      <th></th>\n",
       "      <th>marketplace</th>\n",
       "      <th>customer_id</th>\n",
       "      <th>review_id</th>\n",
       "      <th>product_id</th>\n",
       "      <th>product_parent</th>\n",
       "      <th>product_title</th>\n",
       "      <th>product_category</th>\n",
       "      <th>star_rating</th>\n",
       "      <th>helpful_votes</th>\n",
       "      <th>total_votes</th>\n",
       "      <th>vine</th>\n",
       "      <th>verified_purchase</th>\n",
       "      <th>review_headline</th>\n",
       "      <th>review_body</th>\n",
       "      <th>review_date</th>\n",
       "    </tr>\n",
       "  </thead>\n",
       "  <tbody>\n",
       "    <tr>\n",
       "      <th>0</th>\n",
       "      <td>US</td>\n",
       "      <td>16199106</td>\n",
       "      <td>R203HPW78Z7N4K</td>\n",
       "      <td>B0067WNSZY</td>\n",
       "      <td>633038551</td>\n",
       "      <td>FGGF3032MW Gallery Series 30\" Wide Freestandin...</td>\n",
       "      <td>Major Appliances</td>\n",
       "      <td>5</td>\n",
       "      <td>0</td>\n",
       "      <td>0</td>\n",
       "      <td>N</td>\n",
       "      <td>Y</td>\n",
       "      <td>If you need a new stove, this is a winner.</td>\n",
       "      <td>What a great stove.  What a wonderful replacem...</td>\n",
       "      <td>2015-08-31</td>\n",
       "    </tr>\n",
       "  </tbody>\n",
       "</table>\n",
       "</div>"
      ],
      "text/plain": [
       "  marketplace  customer_id       review_id  product_id  product_parent  \\\n",
       "0          US     16199106  R203HPW78Z7N4K  B0067WNSZY       633038551   \n",
       "\n",
       "                                       product_title  product_category  \\\n",
       "0  FGGF3032MW Gallery Series 30\" Wide Freestandin...  Major Appliances   \n",
       "\n",
       "   star_rating  helpful_votes  total_votes vine verified_purchase  \\\n",
       "0            5              0            0    N                 Y   \n",
       "\n",
       "                              review_headline  \\\n",
       "0  If you need a new stove, this is a winner.   \n",
       "\n",
       "                                         review_body review_date  \n",
       "0  What a great stove.  What a wonderful replacem...  2015-08-31  "
      ]
     },
     "metadata": {},
     "output_type": "display_data"
    },
    {
     "name": "stdout",
     "output_type": "stream",
     "text": [
      "Shoes Reviews DataFrame:\n"
     ]
    },
    {
     "data": {
      "text/html": [
       "<div>\n",
       "<style scoped>\n",
       "    .dataframe tbody tr th:only-of-type {\n",
       "        vertical-align: middle;\n",
       "    }\n",
       "\n",
       "    .dataframe tbody tr th {\n",
       "        vertical-align: top;\n",
       "    }\n",
       "\n",
       "    .dataframe thead th {\n",
       "        text-align: right;\n",
       "    }\n",
       "</style>\n",
       "<table border=\"1\" class=\"dataframe\">\n",
       "  <thead>\n",
       "    <tr style=\"text-align: right;\">\n",
       "      <th></th>\n",
       "      <th>marketplace</th>\n",
       "      <th>customer_id</th>\n",
       "      <th>review_id</th>\n",
       "      <th>product_id</th>\n",
       "      <th>product_parent</th>\n",
       "      <th>product_title</th>\n",
       "      <th>product_category</th>\n",
       "      <th>star_rating</th>\n",
       "      <th>helpful_votes</th>\n",
       "      <th>total_votes</th>\n",
       "      <th>vine</th>\n",
       "      <th>verified_purchase</th>\n",
       "      <th>review_headline</th>\n",
       "      <th>review_body</th>\n",
       "      <th>review_date</th>\n",
       "    </tr>\n",
       "  </thead>\n",
       "  <tbody>\n",
       "    <tr>\n",
       "      <th>0</th>\n",
       "      <td>US</td>\n",
       "      <td>18069663</td>\n",
       "      <td>R3P2HIOQCIN5ZU</td>\n",
       "      <td>B000XB31C0</td>\n",
       "      <td>265024781</td>\n",
       "      <td>Minnetonka Men's Double Deerskin Softsole Mocc...</td>\n",
       "      <td>Shoes</td>\n",
       "      <td>1</td>\n",
       "      <td>0</td>\n",
       "      <td>0</td>\n",
       "      <td>N</td>\n",
       "      <td>Y</td>\n",
       "      <td>.</td>\n",
       "      <td>Do not buy: really didn't start to wear them u...</td>\n",
       "      <td>2015-08-31</td>\n",
       "    </tr>\n",
       "  </tbody>\n",
       "</table>\n",
       "</div>"
      ],
      "text/plain": [
       "  marketplace  customer_id       review_id  product_id  product_parent  \\\n",
       "0          US     18069663  R3P2HIOQCIN5ZU  B000XB31C0       265024781   \n",
       "\n",
       "                                       product_title product_category  \\\n",
       "0  Minnetonka Men's Double Deerskin Softsole Mocc...            Shoes   \n",
       "\n",
       "   star_rating  helpful_votes  total_votes vine verified_purchase  \\\n",
       "0            1              0            0    N                 Y   \n",
       "\n",
       "  review_headline                                        review_body  \\\n",
       "0               .  Do not buy: really didn't start to wear them u...   \n",
       "\n",
       "  review_date  \n",
       "0  2015-08-31  "
      ]
     },
     "metadata": {},
     "output_type": "display_data"
    },
    {
     "name": "stdout",
     "output_type": "stream",
     "text": [
      "Electronics Reviews DataFrame:\n"
     ]
    },
    {
     "data": {
      "text/html": [
       "<div>\n",
       "<style scoped>\n",
       "    .dataframe tbody tr th:only-of-type {\n",
       "        vertical-align: middle;\n",
       "    }\n",
       "\n",
       "    .dataframe tbody tr th {\n",
       "        vertical-align: top;\n",
       "    }\n",
       "\n",
       "    .dataframe thead th {\n",
       "        text-align: right;\n",
       "    }\n",
       "</style>\n",
       "<table border=\"1\" class=\"dataframe\">\n",
       "  <thead>\n",
       "    <tr style=\"text-align: right;\">\n",
       "      <th></th>\n",
       "      <th>marketplace</th>\n",
       "      <th>customer_id</th>\n",
       "      <th>review_id</th>\n",
       "      <th>product_id</th>\n",
       "      <th>product_parent</th>\n",
       "      <th>product_title</th>\n",
       "      <th>product_category</th>\n",
       "      <th>star_rating</th>\n",
       "      <th>helpful_votes</th>\n",
       "      <th>total_votes</th>\n",
       "      <th>vine</th>\n",
       "      <th>verified_purchase</th>\n",
       "      <th>review_headline</th>\n",
       "      <th>review_body</th>\n",
       "      <th>review_date</th>\n",
       "    </tr>\n",
       "  </thead>\n",
       "  <tbody>\n",
       "    <tr>\n",
       "      <th>0</th>\n",
       "      <td>US</td>\n",
       "      <td>41409413</td>\n",
       "      <td>R2MTG1GCZLR2DK</td>\n",
       "      <td>B00428R89M</td>\n",
       "      <td>112201306</td>\n",
       "      <td>yoomall 5M Antenna WIFI RP-SMA Female to Male ...</td>\n",
       "      <td>Electronics</td>\n",
       "      <td>5</td>\n",
       "      <td>0</td>\n",
       "      <td>0</td>\n",
       "      <td>N</td>\n",
       "      <td>Y</td>\n",
       "      <td>Five Stars</td>\n",
       "      <td>As described.</td>\n",
       "      <td>2015-08-31</td>\n",
       "    </tr>\n",
       "  </tbody>\n",
       "</table>\n",
       "</div>"
      ],
      "text/plain": [
       "  marketplace  customer_id       review_id  product_id  product_parent  \\\n",
       "0          US     41409413  R2MTG1GCZLR2DK  B00428R89M       112201306   \n",
       "\n",
       "                                       product_title product_category  \\\n",
       "0  yoomall 5M Antenna WIFI RP-SMA Female to Male ...      Electronics   \n",
       "\n",
       "   star_rating  helpful_votes  total_votes vine verified_purchase  \\\n",
       "0            5              0            0    N                 Y   \n",
       "\n",
       "  review_headline    review_body review_date  \n",
       "0      Five Stars  As described.  2015-08-31  "
      ]
     },
     "metadata": {},
     "output_type": "display_data"
    }
   ],
   "source": [
    "# Define the paths to the files\n",
    "gift_card_path = '../data/extracted/amazon_reviews_us_Gift_Card_v1_00.tsv'\n",
    "major_appliances_path = '../data/extracted/amazon_reviews_us_Major_Appliances_v1_00.tsv'\n",
    "shoes_path = '../data/extracted/amazon_reviews_us_Shoes_v1_00.tsv'\n",
    "electronics_path = '../data/extracted/amazon_reviews_us_Electronics_v1_00.tsv'\n",
    "\n",
    "# Read the files into dataframes\n",
    "df_gift_card = pd.read_csv(gift_card_path, sep='\\t', on_bad_lines='skip')\n",
    "df_major_appliances = pd.read_csv(major_appliances_path, sep='\\t',  on_bad_lines='skip')\n",
    "df_shoes = pd.read_csv(shoes_path, sep='\\t',  on_bad_lines='skip')\n",
    "df_electronics = pd.read_csv(electronics_path, sep='\\t',  on_bad_lines='skip')\n",
    "\n",
    "\n",
    "# Display the first few rows of each dataframe to verify\n",
    "print(\"Gift Card Reviews DataFrame:\")\n",
    "display(df_gift_card.head(1))\n",
    "print(\"\\nMajor Appliances Reviews DataFrame:\")\n",
    "display(df_major_appliances.head(1))\n",
    "print(\"Shoes Reviews DataFrame:\")\n",
    "display(df_shoes.head(1))\n",
    "print(\"Electronics Reviews DataFrame:\")\n",
    "display(df_electronics.head(1))"
   ]
  },
  {
   "cell_type": "markdown",
   "id": "01cfc2ae",
   "metadata": {},
   "source": [
    "# Read Data & Filter Based On User Inputs"
   ]
  },
  {
   "cell_type": "code",
   "execution_count": 12,
   "id": "fa813ba1",
   "metadata": {},
   "outputs": [
    {
     "name": "stdout",
     "output_type": "stream",
     "text": [
      "Please select a product category: 'Gift Card', 'Major Appliances','Shoes', 'Electronics' or 'all'\n"
     ]
    },
    {
     "name": "stderr",
     "output_type": "stream",
     "text": [
      "/var/folders/mm/5m5x03_x20v90n7c9fm6dtzr0000gn/T/ipykernel_77144/2332608093.py:2: FutureWarning: The error_bad_lines argument has been deprecated and will be removed in a future version. Use on_bad_lines in the future.\n",
      "\n",
      "\n",
      "  return pd.read_csv(dataset_path, sep='\\t', error_bad_lines=False, warn_bad_lines=False)\n",
      "/var/folders/mm/5m5x03_x20v90n7c9fm6dtzr0000gn/T/ipykernel_77144/2332608093.py:2: FutureWarning: The warn_bad_lines argument has been deprecated and will be removed in a future version. Use on_bad_lines in the future.\n",
      "\n",
      "\n",
      "  return pd.read_csv(dataset_path, sep='\\t', error_bad_lines=False, warn_bad_lines=False)\n",
      "/var/folders/mm/5m5x03_x20v90n7c9fm6dtzr0000gn/T/ipykernel_77144/2332608093.py:2: FutureWarning: The error_bad_lines argument has been deprecated and will be removed in a future version. Use on_bad_lines in the future.\n",
      "\n",
      "\n",
      "  return pd.read_csv(dataset_path, sep='\\t', error_bad_lines=False, warn_bad_lines=False)\n",
      "/var/folders/mm/5m5x03_x20v90n7c9fm6dtzr0000gn/T/ipykernel_77144/2332608093.py:2: FutureWarning: The warn_bad_lines argument has been deprecated and will be removed in a future version. Use on_bad_lines in the future.\n",
      "\n",
      "\n",
      "  return pd.read_csv(dataset_path, sep='\\t', error_bad_lines=False, warn_bad_lines=False)\n",
      "/var/folders/mm/5m5x03_x20v90n7c9fm6dtzr0000gn/T/ipykernel_77144/2332608093.py:2: FutureWarning: The error_bad_lines argument has been deprecated and will be removed in a future version. Use on_bad_lines in the future.\n",
      "\n",
      "\n",
      "  return pd.read_csv(dataset_path, sep='\\t', error_bad_lines=False, warn_bad_lines=False)\n",
      "/var/folders/mm/5m5x03_x20v90n7c9fm6dtzr0000gn/T/ipykernel_77144/2332608093.py:2: FutureWarning: The warn_bad_lines argument has been deprecated and will be removed in a future version. Use on_bad_lines in the future.\n",
      "\n",
      "\n",
      "  return pd.read_csv(dataset_path, sep='\\t', error_bad_lines=False, warn_bad_lines=False)\n",
      "/var/folders/mm/5m5x03_x20v90n7c9fm6dtzr0000gn/T/ipykernel_77144/2332608093.py:2: FutureWarning: The error_bad_lines argument has been deprecated and will be removed in a future version. Use on_bad_lines in the future.\n",
      "\n",
      "\n",
      "  return pd.read_csv(dataset_path, sep='\\t', error_bad_lines=False, warn_bad_lines=False)\n",
      "/var/folders/mm/5m5x03_x20v90n7c9fm6dtzr0000gn/T/ipykernel_77144/2332608093.py:2: FutureWarning: The warn_bad_lines argument has been deprecated and will be removed in a future version. Use on_bad_lines in the future.\n",
      "\n",
      "\n",
      "  return pd.read_csv(dataset_path, sep='\\t', error_bad_lines=False, warn_bad_lines=False)\n"
     ]
    },
    {
     "name": "stdout",
     "output_type": "stream",
     "text": [
      "Dataset for 'all' category loaded.\n",
      "Removed specific columns: customer_id, review_id, product_id\n",
      "Modified 'review_date' to retain the year only.\n",
      "Categorized 'helpful_votes' and 'total_votes' into engagement levels.\n"
     ]
    }
   ],
   "source": [
    "\n",
    "def read_dataset(dataset_path):\n",
    "    return pd.read_csv(dataset_path, sep='\\t', error_bad_lines=False, warn_bad_lines=False)\n",
    "\n",
    "def merge_datasets(selected_category):\n",
    "    paths = {\n",
    "        'Gift Card': gift_card_path,\n",
    "        'Major Appliances': major_appliances_path,\n",
    "        'Shoes': shoes_path,\n",
    "        'Electronics': electronics_path\n",
    "    }\n",
    "    if selected_category in paths:\n",
    "        return read_dataset(paths[selected_category])\n",
    "    elif selected_category == 'all':\n",
    "        dfs = [read_dataset(path) for path in paths.values()]\n",
    "        return pd.concat(dfs, ignore_index=True)\n",
    "\n",
    "def remove_specific_columns(df):\n",
    "    df.drop(columns=[\"customer_id\", \"review_id\", \"product_id\"], inplace=True)\n",
    "    return df\n",
    "\n",
    "def modify_review_date_to_year(df):\n",
    "    df['review_date'] = pd.to_datetime(df['review_date'], errors='coerce').dt.year\n",
    "    df.dropna(subset=['review_date'], inplace=True)\n",
    "    df['review_date'] = df['review_date'].astype(int)\n",
    "    return df\n",
    "\n",
    "def categorize_votes(df, column_names):\n",
    "    for column in column_names:\n",
    "        category_col_name = f'{column}_category'\n",
    "        df[category_col_name] = 'No Votes'  # Default category for 0 votes\n",
    "        has_votes = df[column] > 0\n",
    "        votes_data = df.loc[has_votes, column]\n",
    "        \n",
    "        unique_values = votes_data.unique()\n",
    "        if len(unique_values) > 4:\n",
    "            try:\n",
    "                df.loc[has_votes, category_col_name] = pd.qcut(votes_data, q=4, labels=[\"Minimal Engagement\", \"Low Engagement\", \"Moderate Engagement\", \"High Engagement\"])\n",
    "            except ValueError:\n",
    "                df.loc[has_votes, category_col_name] = pd.cut(votes_data, bins=4, labels=[\"Minimal Engagement\", \"Low Engagement\", \"Moderate Engagement\", \"High Engagement\"])\n",
    "        else:\n",
    "            df.loc[has_votes, category_col_name] = pd.cut(votes_data, bins=4, labels=[\"Minimal Engagement\", \"Low Engagement\", \"Moderate Engagement\", \"High Engagement\"])\n",
    "    return df\n",
    "\n",
    "def get_user_category_selection():\n",
    "    print(\"Please select a product category: 'Gift Card', 'Major Appliances','Shoes', 'Electronics' or 'all'\")\n",
    "    category = input(\"Your choice: \").strip()\n",
    "    if category not in ['Gift Card', 'Major Appliances', 'Shoes','Electronics', 'all']:\n",
    "        print(\"Invalid selection. Defaulting to 'all'.\")\n",
    "        category = 'all'\n",
    "    elif category == '':\n",
    "        category = 'all'\n",
    "    return category\n",
    "\n",
    "def get_user_variable_selections():\n",
    "    print(\"Available variables: marketplace, product_title, product_category, star_rating, vine, verified_purchase, review_headline, review_body, review_date, helpful_votes_category, total_votes_category\")\n",
    "    selections = input(\"Enter the variables you're interested in, separated by commas (e.g., product_category, star_rating): \").strip()\n",
    "    if selections == '':\n",
    "        return []\n",
    "    return [var.strip() for var in selections.split(',')]\n",
    "\n",
    "def display_and_select_unique_values(df, selected_variables):\n",
    "    filters = {}\n",
    "    for variable in selected_variables:\n",
    "        if variable in df.columns:\n",
    "            unique_values = df[variable].dropna().unique()\n",
    "            print(f\"Unique values for {variable}: {', '.join(unique_values.astype(str))}\")\n",
    "            selected_values = input(f\"Enter the values you're interested in for {variable}, separated by commas (leave blank to skip): \")\n",
    "            if selected_values:\n",
    "                filters[variable] = [value.strip() for value in selected_values.split(',')]\n",
    "    return filters\n",
    "\n",
    "def filter_dataset(df, filters):\n",
    "    for variable, selected_values in filters.items():\n",
    "        if variable in df.columns:\n",
    "            df = df[df[variable].isin(selected_values)]\n",
    "    return df\n",
    "\n",
    "if __name__ == \"__main__\":\n",
    "    selected_category = get_user_category_selection()\n",
    "    df = merge_datasets(selected_category)\n",
    "    print(f\"Dataset for '{selected_category}' category loaded.\")\n",
    "    \n",
    "    df = remove_specific_columns(df)\n",
    "    print(\"Removed specific columns: customer_id, review_id, product_id\")\n",
    "    \n",
    "    df = modify_review_date_to_year(df)\n",
    "    print(\"Modified 'review_date' to retain the year only.\")\n",
    "    \n",
    "    df = categorize_votes(df, ['helpful_votes', 'total_votes'])\n",
    "    print(\"Categorized 'helpful_votes' and 'total_votes' into engagement levels.\")\n",
    "\n",
    "    #selected_variables = get_user_variable_selections()\n",
    "    #if selected_variables:\n",
    "    #    filters = display_and_select_unique_values(df, selected_variables)\n",
    "    #    print(f\"Selected filters: {filters}\")\n",
    "#\n",
    "    #    filtered_df = filter_dataset(df, filters)\n",
    "    #    print(\"Filtered dataset based on your selections:\")\n",
    "    #    print(filtered_df.head(1))\n",
    "    #else:\n",
    "    #    print(\"No variable selections made. Displaying first entries of the dataset.\")\n",
    "    #    print(df.head(1))\n"
   ]
  },
  {
   "cell_type": "code",
   "execution_count": 13,
   "id": "ee876131",
   "metadata": {},
   "outputs": [
    {
     "data": {
      "text/plain": [
       "(7694941, 14)"
      ]
     },
     "execution_count": 13,
     "metadata": {},
     "output_type": "execute_result"
    }
   ],
   "source": [
    "df.shape"
   ]
  },
  {
   "cell_type": "code",
   "execution_count": 14,
   "id": "af4543b8",
   "metadata": {},
   "outputs": [
    {
     "data": {
      "text/plain": [
       "Index(['marketplace', 'product_parent', 'product_title', 'product_category',\n",
       "       'star_rating', 'helpful_votes', 'total_votes', 'vine',\n",
       "       'verified_purchase', 'review_headline', 'review_body', 'review_date',\n",
       "       'helpful_votes_category', 'total_votes_category'],\n",
       "      dtype='object')"
      ]
     },
     "execution_count": 14,
     "metadata": {},
     "output_type": "execute_result"
    }
   ],
   "source": [
    "df.columns"
   ]
  },
  {
   "cell_type": "code",
   "execution_count": 17,
   "id": "833fb1f3",
   "metadata": {},
   "outputs": [],
   "source": [
    "processed=df\n",
    "processed.to_csv('../data/extracted/merged_4_product_lines.csv')"
   ]
  },
  {
   "cell_type": "code",
   "execution_count": null,
   "id": "9766a8dc",
   "metadata": {},
   "outputs": [],
   "source": []
  }
 ],
 "metadata": {
  "kernelspec": {
   "display_name": "Python 3 (ipykernel)",
   "language": "python",
   "name": "python3"
  },
  "language_info": {
   "codemirror_mode": {
    "name": "ipython",
    "version": 3
   },
   "file_extension": ".py",
   "mimetype": "text/x-python",
   "name": "python",
   "nbconvert_exporter": "python",
   "pygments_lexer": "ipython3",
   "version": "3.8.15"
  }
 },
 "nbformat": 4,
 "nbformat_minor": 5
}
