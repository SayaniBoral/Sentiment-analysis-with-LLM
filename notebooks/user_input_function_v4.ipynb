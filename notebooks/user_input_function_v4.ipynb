{
 "cells": [
  {
   "cell_type": "markdown",
   "id": "e7115f08",
   "metadata": {},
   "source": [
    "# Input Functions"
   ]
  },
  {
   "cell_type": "markdown",
   "id": "00cc45a1",
   "metadata": {},
   "source": [
    "#### import Modules "
   ]
  },
  {
   "cell_type": "code",
   "execution_count": 1,
   "id": "1abf36e1",
   "metadata": {},
   "outputs": [],
   "source": [
    "import pandas as pd\n",
    "from datetime import datetime\n",
    "import seaborn as sns\n",
    "import matplotlib.pyplot as plt\n",
    "from wordcloud import WordCloud\n",
    "from collections import Counter\n",
    "from textblob import TextBlob\n",
    "import re\n",
    "import csv"
   ]
  },
  {
   "cell_type": "markdown",
   "id": "6a56a8a2",
   "metadata": {},
   "source": [
    "## CHANGE PATH FOR YOU MACHINE"
   ]
  },
  {
   "cell_type": "code",
   "execution_count": null,
   "id": "74a5a6c6",
   "metadata": {
    "scrolled": true
   },
   "outputs": [],
   "source": [
    "# Define the paths to the files\n",
    "gift_card_path = 'raw_data/amazon_reviews_us_Gift_Card_v1_00.tsv'\n",
    "major_appliances_path = 'raw_data/amazon_reviews_us_Major_Appliances_v1_00.tsv'\n",
    "shoes_path = 'raw_data/amazon_reviews_us_Shoes_v1_00.tsv'\n",
    "electronics_path =  'raw_data/amazon_reviews_us_Electronics_v1_00.tsv'\n",
    "\n",
    "# Read the files into dataframes\n",
    "df_gift_card = pd.read_csv(gift_card_path, sep='\\t', error_bad_lines=False)\n",
    "df_major_appliances = pd.read_csv(major_appliances_path, sep='\\t', error_bad_lines=False)\n",
    "df_shoes = pd.read_csv(shoes_path, sep='\\t', error_bad_lines=False)\n",
    "df_electronics = pd.read_csv(electronics_path, sep='\\t', error_bad_lines=False)\n",
    "\n",
    "\n",
    "# Display the first few rows of each dataframe to verify\n",
    "print(\"Gift Card Reviews DataFrame:\")\n",
    "display(df_gift_card.head(1))\n",
    "print(\"\\nMajor Appliances Reviews DataFrame:\")\n",
    "display(df_major_appliances.head(1))\n",
    "print(\"Shoes Reviews DataFrame:\")\n",
    "display(df_shoes.head(1))\n",
    "print(\"Electronics Reviews DataFrame:\")\n",
    "display(df_electronics.head(1))"
   ]
  },
  {
   "cell_type": "markdown",
   "id": "01cfc2ae",
   "metadata": {},
   "source": [
    "# Read Data & Filter Based On User Inputs"
   ]
  },
  {
   "cell_type": "code",
   "execution_count": 5,
   "id": "fa813ba1",
   "metadata": {},
   "outputs": [
    {
     "name": "stdout",
     "output_type": "stream",
     "text": [
      "Please select a product category: 'Gift Card', 'Major Appliances','Shoes', 'Electronics' or 'all'\n",
      "Your choice: Major Appliances\n"
     ]
    },
    {
     "name": "stderr",
     "output_type": "stream",
     "text": [
      "/var/folders/3h/r5l1t4656pbc6bzdv94m9wrm0000gn/T/ipykernel_97676/2463294523.py:10: FutureWarning: The error_bad_lines argument has been deprecated and will be removed in a future version. Use on_bad_lines in the future.\n",
      "\n",
      "\n",
      "  return pd.read_csv(dataset_path, sep='\\t', error_bad_lines=False, warn_bad_lines=False)\n",
      "/var/folders/3h/r5l1t4656pbc6bzdv94m9wrm0000gn/T/ipykernel_97676/2463294523.py:10: FutureWarning: The warn_bad_lines argument has been deprecated and will be removed in a future version. Use on_bad_lines in the future.\n",
      "\n",
      "\n",
      "  return pd.read_csv(dataset_path, sep='\\t', error_bad_lines=False, warn_bad_lines=False)\n"
     ]
    },
    {
     "name": "stdout",
     "output_type": "stream",
     "text": [
      "Dataset for 'Major Appliances' category loaded.\n",
      "Removed specific columns: customer_id, review_id, product_id\n",
      "Modified 'review_date' to retain the year only.\n",
      "Categorized 'helpful_votes' and 'total_votes' into engagement levels.\n",
      "Available variables: marketplace, product_title, product_category, star_rating, vine, verified_purchase, review_headline, review_body, review_date, helpful_votes_category, total_votes_category\n",
      "Enter the variables you're interested in, separated by commas (e.g., product_category, star_rating): helpful_votes_category\n",
      "Unique values for helpful_votes_category: No Votes, Minimal Engagement, Low Engagement, Moderate Engagement, High Engagement\n",
      "Enter the values you're interested in for helpful_votes_category, separated by commas (leave blank to skip): Moderate Engagement, High Engagement\n",
      "Selected filters: {'helpful_votes_category': ['Moderate Engagement', 'High Engagement']}\n",
      "Filtered dataset based on your selections:\n",
      "      marketplace  product_parent  \\\n",
      "66150          US       425600013   \n",
      "\n",
      "                                        product_title  product_category  \\\n",
      "66150  NewAir AI-100R 28-Pound Portable Icemaker, Red  Major Appliances   \n",
      "\n",
      "       star_rating  helpful_votes  total_votes vine verified_purchase  \\\n",
      "66150            5            889          900    N                 Y   \n",
      "\n",
      "                            review_headline  \\\n",
      "66150  Works Great, here's a word of advise   \n",
      "\n",
      "                                             review_body  review_date  \\\n",
      "66150  This unit arrived in tact and in fine shape, w...         2013   \n",
      "\n",
      "      helpful_votes_category total_votes_category  \n",
      "66150    Moderate Engagement  Moderate Engagement  \n"
     ]
    }
   ],
   "source": [
    "import pandas as pd\n",
    "\n",
    "# Define the file paths for the datasets\n",
    "gift_card_path = 'raw_data/amazon_reviews_us_Gift_Card_v1_00.tsv'\n",
    "major_appliances_path = 'raw_data/amazon_reviews_us_Major_Appliances_v1_00.tsv'\n",
    "shoes_path = 'raw_data/amazon_reviews_us_Shoes_v1_00.tsv'\n",
    "electronics_path = 'raw_data/amazon_reviews_us_Electronics_v1_00.tsv'\n",
    "\n",
    "def read_dataset(dataset_path):\n",
    "    return pd.read_csv(dataset_path, sep='\\t', error_bad_lines=False, warn_bad_lines=False)\n",
    "\n",
    "def merge_datasets(selected_category):\n",
    "    paths = {\n",
    "        'Gift Card': gift_card_path,\n",
    "        'Major Appliances': major_appliances_path,\n",
    "        'Shoes': shoes_path,\n",
    "        'Electronics': electronics_path\n",
    "    }\n",
    "    if selected_category in paths:\n",
    "        return read_dataset(paths[selected_category])\n",
    "    elif selected_category == 'all':\n",
    "        dfs = [read_dataset(path) for path in paths.values()]\n",
    "        return pd.concat(dfs, ignore_index=True)\n",
    "\n",
    "def remove_specific_columns(df):\n",
    "    df.drop(columns=[\"customer_id\", \"review_id\", \"product_id\"], inplace=True)\n",
    "    return df\n",
    "\n",
    "def modify_review_date_to_year(df):\n",
    "    df['review_date'] = pd.to_datetime(df['review_date'], errors='coerce').dt.year\n",
    "    df.dropna(subset=['review_date'], inplace=True)\n",
    "    df['review_date'] = df['review_date'].astype(int)\n",
    "    return df\n",
    "\n",
    "def categorize_votes(df, column_names):\n",
    "    for column in column_names:\n",
    "        category_col_name = f'{column}_category'\n",
    "        df[category_col_name] = 'No Votes'  # Default category for 0 votes\n",
    "        has_votes = df[column] > 0\n",
    "        votes_data = df.loc[has_votes, column]\n",
    "        \n",
    "        unique_values = votes_data.unique()\n",
    "        if len(unique_values) > 4:\n",
    "            try:\n",
    "                df.loc[has_votes, category_col_name] = pd.qcut(votes_data, q=4, labels=[\"Minimal Engagement\", \"Low Engagement\", \"Moderate Engagement\", \"High Engagement\"])\n",
    "            except ValueError:\n",
    "                df.loc[has_votes, category_col_name] = pd.cut(votes_data, bins=4, labels=[\"Minimal Engagement\", \"Low Engagement\", \"Moderate Engagement\", \"High Engagement\"])\n",
    "        else:\n",
    "            df.loc[has_votes, category_col_name] = pd.cut(votes_data, bins=4, labels=[\"Minimal Engagement\", \"Low Engagement\", \"Moderate Engagement\", \"High Engagement\"])\n",
    "    return df\n",
    "\n",
    "def get_user_category_selection():\n",
    "    print(\"Please select a product category: 'Gift Card', 'Major Appliances','Shoes', 'Electronics' or 'all'\")\n",
    "    category = input(\"Your choice: \").strip()\n",
    "    if category not in ['Gift Card', 'Major Appliances', 'Shoes','Electronics', 'all']:\n",
    "        print(\"Invalid selection. Defaulting to 'all'.\")\n",
    "        category = 'all'\n",
    "    elif category == '':\n",
    "        category = 'all'\n",
    "    return category\n",
    "\n",
    "def get_user_variable_selections():\n",
    "    print(\"Available variables: marketplace, product_title, product_category, star_rating, vine, verified_purchase, review_headline, review_body, review_date, helpful_votes_category, total_votes_category\")\n",
    "    selections = input(\"Enter the variables you're interested in, separated by commas (e.g., product_category, star_rating): \").strip()\n",
    "    if selections == '':\n",
    "        return []\n",
    "    return [var.strip() for var in selections.split(',')]\n",
    "\n",
    "def display_and_select_unique_values(df, selected_variables):\n",
    "    filters = {}\n",
    "    for variable in selected_variables:\n",
    "        if variable in df.columns:\n",
    "            unique_values = df[variable].dropna().unique()\n",
    "            print(f\"Unique values for {variable}: {', '.join(unique_values.astype(str))}\")\n",
    "            selected_values = input(f\"Enter the values you're interested in for {variable}, separated by commas (leave blank to skip): \")\n",
    "            if selected_values:\n",
    "                filters[variable] = [value.strip() for value in selected_values.split(',')]\n",
    "    return filters\n",
    "\n",
    "def filter_dataset(df, filters):\n",
    "    for variable, selected_values in filters.items():\n",
    "        if variable in df.columns:\n",
    "            df = df[df[variable].isin(selected_values)]\n",
    "    return df\n",
    "\n",
    "if __name__ == \"__main__\":\n",
    "    selected_category = get_user_category_selection()\n",
    "    df = merge_datasets(selected_category)\n",
    "    print(f\"Dataset for '{selected_category}' category loaded.\")\n",
    "    \n",
    "    df = remove_specific_columns(df)\n",
    "    print(\"Removed specific columns: customer_id, review_id, product_id\")\n",
    "    \n",
    "    df = modify_review_date_to_year(df)\n",
    "    print(\"Modified 'review_date' to retain the year only.\")\n",
    "    \n",
    "    df = categorize_votes(df, ['helpful_votes', 'total_votes'])\n",
    "    print(\"Categorized 'helpful_votes' and 'total_votes' into engagement levels.\")\n",
    "\n",
    "    selected_variables = get_user_variable_selections()\n",
    "    if selected_variables:\n",
    "        filters = display_and_select_unique_values(df, selected_variables)\n",
    "        print(f\"Selected filters: {filters}\")\n",
    "\n",
    "        filtered_df = filter_dataset(df, filters)\n",
    "        print(\"Filtered dataset based on your selections:\")\n",
    "        print(filtered_df.head(1))\n",
    "    else:\n",
    "        print(\"No variable selections made. Displaying first entries of the dataset.\")\n",
    "        print(df.head(1))\n"
   ]
  },
  {
   "cell_type": "code",
   "execution_count": null,
   "id": "ee876131",
   "metadata": {},
   "outputs": [],
   "source": []
  },
  {
   "cell_type": "code",
   "execution_count": null,
   "id": "af4543b8",
   "metadata": {},
   "outputs": [],
   "source": []
  },
  {
   "cell_type": "code",
   "execution_count": null,
   "id": "833fb1f3",
   "metadata": {},
   "outputs": [],
   "source": []
  }
 ],
 "metadata": {
  "kernelspec": {
   "display_name": "Python 3 (ipykernel)",
   "language": "python",
   "name": "python3"
  },
  "language_info": {
   "codemirror_mode": {
    "name": "ipython",
    "version": 3
   },
   "file_extension": ".py",
   "mimetype": "text/x-python",
   "name": "python",
   "nbconvert_exporter": "python",
   "pygments_lexer": "ipython3",
   "version": "3.10.13"
  }
 },
 "nbformat": 4,
 "nbformat_minor": 5
}
