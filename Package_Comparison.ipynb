{
 "cells": [
  {
   "cell_type": "markdown",
   "id": "37e9ab72",
   "metadata": {},
   "source": [
    "# Python Package Choice"
   ]
  },
  {
   "cell_type": "code",
   "execution_count": 1,
   "id": "0b983d6d",
   "metadata": {},
   "outputs": [
    {
     "name": "stderr",
     "output_type": "stream",
     "text": [
      "/Users/Yoni/anaconda3/lib/python3.10/site-packages/transformers/utils/generic.py:260: UserWarning: torch.utils._pytree._register_pytree_node is deprecated. Please use torch.utils._pytree.register_pytree_node instead.\n",
      "  torch.utils._pytree._register_pytree_node(\n",
      "/var/folders/3h/r5l1t4656pbc6bzdv94m9wrm0000gn/T/ipykernel_14514/2010257997.py:12: DtypeWarning: Columns (1,10) have mixed types. Specify dtype option on import or set low_memory=False.\n",
      "  df = pd.read_csv('amazon.csv')\n"
     ]
    }
   ],
   "source": [
    "import pandas as pd\n",
    "import matplotlib.pyplot as plt\n",
    "from wordcloud import WordCloud\n",
    "from collections import Counter\n",
    "import re\n",
    "from transformers import AutoModelForSequenceClassification, AutoTokenizer,pipeline \n",
    "from textblob import TextBlob\n",
    "import sklearn\n",
    "\n",
    "\n",
    "# Load the dataset\n",
    "df = pd.read_csv('amazon.csv')"
   ]
  },
  {
   "cell_type": "code",
   "execution_count": 2,
   "id": "f0d22c08",
   "metadata": {},
   "outputs": [
    {
     "name": "stdout",
     "output_type": "stream",
     "text": [
      "<class 'pandas.core.frame.DataFrame'>\n",
      "RangeIndex: 34660 entries, 0 to 34659\n",
      "Data columns (total 21 columns):\n",
      " #   Column                Non-Null Count  Dtype  \n",
      "---  ------                --------------  -----  \n",
      " 0   id                    34660 non-null  object \n",
      " 1   name                  27900 non-null  object \n",
      " 2   asins                 34658 non-null  object \n",
      " 3   brand                 34660 non-null  object \n",
      " 4   categories            34660 non-null  object \n",
      " 5   keys                  34660 non-null  object \n",
      " 6   manufacturer          34660 non-null  object \n",
      " 7   reviews.date          34621 non-null  object \n",
      " 8   reviews.dateAdded     24039 non-null  object \n",
      " 9   reviews.dateSeen      34660 non-null  object \n",
      " 10  reviews.didPurchase   1 non-null      object \n",
      " 11  reviews.doRecommend   34066 non-null  object \n",
      " 12  reviews.id            1 non-null      float64\n",
      " 13  reviews.numHelpful    34131 non-null  float64\n",
      " 14  reviews.rating        34627 non-null  float64\n",
      " 15  reviews.sourceURLs    34660 non-null  object \n",
      " 16  reviews.text          34659 non-null  object \n",
      " 17  reviews.title         34655 non-null  object \n",
      " 18  reviews.userCity      0 non-null      float64\n",
      " 19  reviews.userProvince  0 non-null      float64\n",
      " 20  reviews.username      34658 non-null  object \n",
      "dtypes: float64(5), object(16)\n",
      "memory usage: 5.6+ MB\n",
      "\n",
      "DataFrame Shape:\n",
      "(34660, 21)\n"
     ]
    }
   ],
   "source": [
    "# Display the first few rows of the dataframe\n",
    "df.head()\n",
    "\n",
    "# Display the concise summary of the DataFrame\n",
    "# print(\"DataFrame Information:\")\n",
    "df.info()\n",
    "\n",
    "# Display the shape of the DataFrame\n",
    "print(\"\\nDataFrame Shape:\")\n",
    "print(df.shape)\n"
   ]
  },
  {
   "cell_type": "markdown",
   "id": "5fb69ddf",
   "metadata": {},
   "source": [
    "## preprocessing"
   ]
  },
  {
   "cell_type": "code",
   "execution_count": 3,
   "id": "a12799c5",
   "metadata": {},
   "outputs": [],
   "source": [
    "df_copy = df.copy()\n",
    "\n",
    "# Dropping columns with predominantly missing values or not relevant\n",
    "columns_to_drop = ['reviews.userCity', 'reviews.userProvince', 'reviews.didPurchase', 'reviews.id']\n",
    "df_copy.drop(columns=columns_to_drop, inplace=True)\n",
    "\n",
    "# Filling missing values in 'name' with \"Unknown\"\n",
    "df_copy['name'].fillna('Unknown', inplace=True)\n",
    "\n",
    "def clean_text(text):\n",
    "    if not isinstance(text, str):\n",
    "        return \"\"  # Return an empty string for non-string inputs\n",
    "    text = text.lower()\n",
    "    text = re.sub(r'[^a-zA-Z0-9\\s]', '', text)\n",
    "    return text\n",
    "\n",
    "df_copy['reviews.text'] = df_copy['reviews.text'].apply(clean_text)\n",
    "\n",
    "df_copy['reviews.date'] = pd.to_datetime(df_copy['reviews.date'])\n",
    "\n",
    "# Example: Filling missing ratings with the median rating\n",
    "median_rating = df_copy['reviews.rating'].median()\n",
    "df_copy['reviews.rating'].fillna(median_rating, inplace=True)\n",
    "# df_copy"
   ]
  },
  {
   "cell_type": "markdown",
   "id": "a92e627f",
   "metadata": {},
   "source": [
    "### TextBlob Test"
   ]
  },
  {
   "cell_type": "code",
   "execution_count": 4,
   "id": "31effc53",
   "metadata": {},
   "outputs": [
    {
     "name": "stdout",
     "output_type": "stream",
     "text": [
      "TextBlob Sentiment: Sentiment(polarity=1.0, subjectivity=1.0)\n"
     ]
    }
   ],
   "source": [
    "text = \"This product has been excellent in performance but I had issues with its customer service.\"\n",
    "blob = TextBlob(text)\n",
    "print(f\"TextBlob Sentiment: {blob.sentiment}\")\n"
   ]
  },
  {
   "cell_type": "code",
   "execution_count": 6,
   "id": "aa2a92a7",
   "metadata": {},
   "outputs": [
    {
     "name": "stdout",
     "output_type": "stream",
     "text": [
      "Review: This product has been excellent in performance but I had issues with its customer service.\n",
      "TextBlob Sentiment: Sentiment(polarity=1.0, subjectivity=1.0)\n",
      "\n",
      "Review: Absolutely love this product, it works wonders!\n",
      "TextBlob Sentiment: Sentiment(polarity=0.625, subjectivity=0.6)\n",
      "\n",
      "Review: Terrible, did not work as advertised.\n",
      "TextBlob Sentiment: Sentiment(polarity=-1.0, subjectivity=1.0)\n",
      "\n",
      "Review: Okay, but I've seen better performance from cheaper products.\n",
      "TextBlob Sentiment: Sentiment(polarity=0.5, subjectivity=0.5)\n",
      "\n",
      "Review: Amazing quality, exceeded my expectations.\n",
      "TextBlob Sentiment: Sentiment(polarity=0.6000000000000001, subjectivity=0.9)\n",
      "\n",
      "Review: The worst customer service experience ever.\n",
      "TextBlob Sentiment: Sentiment(polarity=-1.0, subjectivity=1.0)\n",
      "\n",
      "Review: Pretty good, but not worth the price.\n",
      "TextBlob Sentiment: Sentiment(polarity=0.26666666666666666, subjectivity=0.5666666666666668)\n",
      "\n",
      "Review: This product saved me so much time!\n",
      "TextBlob Sentiment: Sentiment(polarity=0.25, subjectivity=0.2)\n",
      "\n",
      "Review: Not happy with the purchase. It broke after a week.\n",
      "TextBlob Sentiment: Sentiment(polarity=-0.4, subjectivity=1.0)\n",
      "\n",
      "Review: Excellent durability and performance. Highly recommend.\n",
      "TextBlob Sentiment: Sentiment(polarity=0.58, subjectivity=0.77)\n",
      "\n",
      "Review: Mediocre at best, I wouldn't buy it again.\n",
      "TextBlob Sentiment: Sentiment(polarity=0.25, subjectivity=0.65)\n",
      "\n"
     ]
    }
   ],
   "source": [
    "reviews = [\n",
    "     \"This product has been excellent in performance but I had issues with its customer service.\",\n",
    "    \"Absolutely love this product, it works wonders!\",\n",
    "    \"Terrible, did not work as advertised.\",\n",
    "    \"Okay, but I've seen better performance from cheaper products.\",\n",
    "    \"Amazing quality, exceeded my expectations.\",\n",
    "    \"The worst customer service experience ever.\",\n",
    "    \"Pretty good, but not worth the price.\",\n",
    "    \"This product saved me so much time!\",\n",
    "    \"Not happy with the purchase. It broke after a week.\",\n",
    "    \"Excellent durability and performance. Highly recommend.\",\n",
    "    \"Mediocre at best, I wouldn't buy it again.\"\n",
    "]\n",
    "\n",
    "for review in reviews:\n",
    "    blob = TextBlob(review)\n",
    "    print(f\"Review: {review}\\nTextBlob Sentiment: {blob.sentiment}\\n\")\n"
   ]
  },
  {
   "cell_type": "markdown",
   "id": "074a46cd",
   "metadata": {},
   "source": [
    "### Hugging Face Transformers Test"
   ]
  },
  {
   "cell_type": "code",
   "execution_count": 5,
   "id": "95e064f2",
   "metadata": {},
   "outputs": [
    {
     "name": "stderr",
     "output_type": "stream",
     "text": [
      "No model was supplied, defaulted to distilbert-base-uncased-finetuned-sst-2-english and revision af0f99b (https://huggingface.co/distilbert-base-uncased-finetuned-sst-2-english).\n",
      "Using a pipeline without specifying a model name and revision in production is not recommended.\n"
     ]
    },
    {
     "data": {
      "application/vnd.jupyter.widget-view+json": {
       "model_id": "3b7522ea900243618bb9983532e6b657",
       "version_major": 2,
       "version_minor": 0
      },
      "text/plain": [
       "model.safetensors:   0%|          | 0.00/268M [00:00<?, ?B/s]"
      ]
     },
     "metadata": {},
     "output_type": "display_data"
    },
    {
     "data": {
      "application/vnd.jupyter.widget-view+json": {
       "model_id": "6a0218fe4e3f4d13b931b5a8199459ff",
       "version_major": 2,
       "version_minor": 0
      },
      "text/plain": [
       "tokenizer_config.json:   0%|          | 0.00/48.0 [00:00<?, ?B/s]"
      ]
     },
     "metadata": {},
     "output_type": "display_data"
    },
    {
     "data": {
      "application/vnd.jupyter.widget-view+json": {
       "model_id": "94df66b34afd4e9aa78b90b8013b71bf",
       "version_major": 2,
       "version_minor": 0
      },
      "text/plain": [
       "vocab.txt:   0%|          | 0.00/232k [00:00<?, ?B/s]"
      ]
     },
     "metadata": {},
     "output_type": "display_data"
    },
    {
     "name": "stdout",
     "output_type": "stream",
     "text": [
      "Hugging Face Sentiment: [{'label': 'NEGATIVE', 'score': 0.9973146319389343}]\n"
     ]
    }
   ],
   "source": [
    "nlp = pipeline(\"sentiment-analysis\")\n",
    "text = \"This product has been excellent in performance but I had issues with its customer service.\"\n",
    "result = nlp(text)\n",
    "print(f\"Hugging Face Sentiment: {result}\")\n"
   ]
  },
  {
   "cell_type": "code",
   "execution_count": 7,
   "id": "eaf241cb",
   "metadata": {},
   "outputs": [
    {
     "name": "stderr",
     "output_type": "stream",
     "text": [
      "No model was supplied, defaulted to distilbert-base-uncased-finetuned-sst-2-english and revision af0f99b (https://huggingface.co/distilbert-base-uncased-finetuned-sst-2-english).\n",
      "Using a pipeline without specifying a model name and revision in production is not recommended.\n"
     ]
    },
    {
     "name": "stdout",
     "output_type": "stream",
     "text": [
      "Review: This product has been excellent in performance but I had issues with its customer service.\n",
      "Hugging Face Sentiment: [{'label': 'NEGATIVE', 'score': 0.9973146319389343}]\n",
      "\n",
      "Review: Absolutely love this product, it works wonders!\n",
      "Hugging Face Sentiment: [{'label': 'POSITIVE', 'score': 0.9998862743377686}]\n",
      "\n",
      "Review: Terrible, did not work as advertised.\n",
      "Hugging Face Sentiment: [{'label': 'NEGATIVE', 'score': 0.9994440674781799}]\n",
      "\n",
      "Review: Okay, but I've seen better performance from cheaper products.\n",
      "Hugging Face Sentiment: [{'label': 'NEGATIVE', 'score': 0.9877060055732727}]\n",
      "\n",
      "Review: Amazing quality, exceeded my expectations.\n",
      "Hugging Face Sentiment: [{'label': 'POSITIVE', 'score': 0.9998855590820312}]\n",
      "\n",
      "Review: The worst customer service experience ever.\n",
      "Hugging Face Sentiment: [{'label': 'NEGATIVE', 'score': 0.999789297580719}]\n",
      "\n",
      "Review: Pretty good, but not worth the price.\n",
      "Hugging Face Sentiment: [{'label': 'NEGATIVE', 'score': 0.9121016263961792}]\n",
      "\n",
      "Review: This product saved me so much time!\n",
      "Hugging Face Sentiment: [{'label': 'POSITIVE', 'score': 0.9677528142929077}]\n",
      "\n",
      "Review: Not happy with the purchase. It broke after a week.\n",
      "Hugging Face Sentiment: [{'label': 'NEGATIVE', 'score': 0.9996868371963501}]\n",
      "\n",
      "Review: Excellent durability and performance. Highly recommend.\n",
      "Hugging Face Sentiment: [{'label': 'POSITIVE', 'score': 0.9998711347579956}]\n",
      "\n",
      "Review: Mediocre at best, I wouldn't buy it again.\n",
      "Hugging Face Sentiment: [{'label': 'NEGATIVE', 'score': 0.9996426105499268}]\n",
      "\n"
     ]
    }
   ],
   "source": [
    "from transformers import pipeline\n",
    "\n",
    "nlp = pipeline(\"sentiment-analysis\")\n",
    "\n",
    "reviews = [\n",
    "    \"This product has been excellent in performance but I had issues with its customer service.\",\n",
    "    \"Absolutely love this product, it works wonders!\",\n",
    "    \"Terrible, did not work as advertised.\",\n",
    "    \"Okay, but I've seen better performance from cheaper products.\",\n",
    "    \"Amazing quality, exceeded my expectations.\",\n",
    "    \"The worst customer service experience ever.\",\n",
    "    \"Pretty good, but not worth the price.\",\n",
    "    \"This product saved me so much time!\",\n",
    "    \"Not happy with the purchase. It broke after a week.\",\n",
    "    \"Excellent durability and performance. Highly recommend.\",\n",
    "    \"Mediocre at best, I wouldn't buy it again.\"\n",
    "]\n",
    "\n",
    "for review in reviews:\n",
    "    result = nlp(review)\n",
    "    print(f\"Review: {review}\\nHugging Face Sentiment: {result}\\n\")\n"
   ]
  },
  {
   "cell_type": "markdown",
   "id": "fcc52f2e",
   "metadata": {},
   "source": [
    "\n",
    "### TextBlob\n",
    "- **Pros:** Excellent for quick sentiment analysis and basic NLP tasks. Its simplicity and ease of use are ideal for straightforward text processing, like cleaning and sentiment assessment in your dataset.\n",
    "- **Cons:** May not offer the depth required for more nuanced sentiment analysis or complex NLP tasks that could be beneficial in fully understanding customer feedback nuances.\n",
    "\n",
    "### Scikit-learn\n",
    "- **Pros:** With its comprehensive machine learning toolkit, it's great for classification, regression, and clustering, which can be applied to predict product popularity based on review ratings. Also useful for preprocessing and feature extraction.\n",
    "- **Cons:** Lacks the direct NLP capabilities for sentiment analysis without additional libraries or custom implementations. It's more focused on numerical and categorical data processing.\n",
    "\n",
    "### Transformers (Hugging Face)\n",
    "- **Pros:** Provides access to state-of-the-art NLP models capable of deep sentiment analysis and understanding complex language patterns. Highly suitable for extracting sophisticated insights from customer reviews.\n",
    "- **Cons:** Requires more computational resources and has a steeper learning curve. May introduce complexity in preprocessing steps due to the need for tokenization and input formatting specific to these advanced models.\n",
    "\n",
    "Given the preprocessing code you're working with, focusing on cleaning text and handling missing data, each library offers distinct advantages:\n",
    "- **TextBlob** is the most straightforward for directly applying sentiment analysis after your initial preprocessing.\n",
    "- **Scikit-learn** is highly beneficial for further data manipulation, especially in preparing your dataset for machine learning tasks.\n",
    "- **Transformers** offer the most advanced capabilities for sentiment analysis, assuming the data is preprocessed to fit the model requirements. \n",
    "\n"
   ]
  },
  {
   "cell_type": "code",
   "execution_count": null,
   "id": "5a79f075",
   "metadata": {},
   "outputs": [],
   "source": []
  }
 ],
 "metadata": {
  "kernelspec": {
   "display_name": "Python 3 (ipykernel)",
   "language": "python",
   "name": "python3"
  },
  "language_info": {
   "codemirror_mode": {
    "name": "ipython",
    "version": 3
   },
   "file_extension": ".py",
   "mimetype": "text/x-python",
   "name": "python",
   "nbconvert_exporter": "python",
   "pygments_lexer": "ipython3",
   "version": "3.10.13"
  }
 },
 "nbformat": 4,
 "nbformat_minor": 5
}
